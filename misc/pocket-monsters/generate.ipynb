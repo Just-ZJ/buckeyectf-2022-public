{
 "cells": [
  {
   "cell_type": "code",
   "execution_count": 1,
   "id": "gothic-circumstances",
   "metadata": {},
   "outputs": [],
   "source": [
    "from numpy import uint16, uint32"
   ]
  },
  {
   "cell_type": "code",
   "execution_count": 2,
   "id": "killing-incidence",
   "metadata": {},
   "outputs": [],
   "source": [
    "with open('save-raw.sav', 'rb') as f:\n",
    "    dat = f.read()"
   ]
  },
  {
   "cell_type": "code",
   "execution_count": 3,
   "id": "changing-lawrence",
   "metadata": {},
   "outputs": [],
   "source": [
    "x = bytearray(dat)"
   ]
  },
  {
   "cell_type": "code",
   "execution_count": 4,
   "id": "demographic-rapid",
   "metadata": {},
   "outputs": [
    {
     "data": {
      "text/plain": [
       "bytearray(b'% \\x01\\x08\\x04\\x00\\x00\\x00')"
      ]
     },
     "execution_count": 4,
     "metadata": {},
     "output_type": "execute_result"
    }
   ],
   "source": [
    "box = x[0x9000:0xa000]\n",
    "box[0x0FF8:]"
   ]
  },
  {
   "cell_type": "code",
   "execution_count": 5,
   "id": "stretch-congress",
   "metadata": {},
   "outputs": [
    {
     "data": {
      "text/plain": [
       "56886"
      ]
     },
     "execution_count": 5,
     "metadata": {},
     "output_type": "execute_result"
    }
   ],
   "source": [
    "int.from_bytes(box[0x0FF6:0x0FF8], \"little\")"
   ]
  },
  {
   "cell_type": "code",
   "execution_count": 6,
   "id": "little-arbor",
   "metadata": {},
   "outputs": [],
   "source": [
    "def calc_hash(sec, sz):\n",
    "    s = uint32(0)\n",
    "    for i in range(0, sz // 4):\n",
    "        s = s + uint32(int.from_bytes(sec[4*i : 4*(i+1)], \"little\"))\n",
    "    return uint16(s & 0xFFFF) + uint16(s >> 16)"
   ]
  },
  {
   "cell_type": "code",
   "execution_count": 7,
   "id": "appreciated-failing",
   "metadata": {},
   "outputs": [
    {
     "name": "stderr",
     "output_type": "stream",
     "text": [
      "<ipython-input-6-15b25b22d2e0>:4: RuntimeWarning: overflow encountered in uint_scalars\n",
      "  s = s + uint32(int.from_bytes(sec[4*i : 4*(i+1)], \"little\"))\n"
     ]
    },
    {
     "data": {
      "text/plain": [
       "56886"
      ]
     },
     "execution_count": 7,
     "metadata": {},
     "output_type": "execute_result"
    }
   ],
   "source": [
    "calc_hash(box, 3968)"
   ]
  },
  {
   "cell_type": "code",
   "execution_count": 8,
   "id": "international-structure",
   "metadata": {},
   "outputs": [],
   "source": [
    "flag = [0xd6, 0xe9, 0xd7, 0xdf, 0xd9, 0xed, 0xd9, # buckeye\n",
    "            0x5c, # (\n",
    "            0xaa, 0xa1, 0xa8, 0xa8, 0xa5, # 9077a\n",
    "            0xae, # -\n",
    "            0xa4, 0xe1, 0xe9, 0xa2, 0xa5, 0xa8, 0xa4, # 3mu1473\n",
    "            0xae, # -\n",
    "            0xa4, 0xe1, # 3m\n",
    "            0xae, # -\n",
    "            0xa5, 0xa2, 0xa2, # 411\n",
    "            0x5d # )\n",
    "       ]"
   ]
  },
  {
   "cell_type": "code",
   "execution_count": 9,
   "id": "liable-laser",
   "metadata": {},
   "outputs": [],
   "source": [
    "for j in range(0, len(flag)):\n",
    "    box[4 + j*80 : 84 + j*80] = box[4:84] # copy pidgey\n",
    "    box[12 + j*80 : 22 + j*80] = [flag[j], 0xFF, 0xFF, 0xFF, 0xFF, 0xFF, 0xFF, 0xFF, 0xFF, 0xFF]"
   ]
  },
  {
   "cell_type": "code",
   "execution_count": 10,
   "id": "hollow-hands",
   "metadata": {},
   "outputs": [
    {
     "data": {
      "text/plain": [
       "56886"
      ]
     },
     "execution_count": 10,
     "metadata": {},
     "output_type": "execute_result"
    }
   ],
   "source": [
    "# Uncomment this line to write the new checksum, making the save bootable.\n",
    "# This would make the challenge too easy, I think\n",
    "#box[0x0FF6:0x0FF8] = int(calc_hash(box, 3968)).to_bytes(2, \"little\")\n",
    "int.from_bytes(box[0x0FF6:0x0FF8], \"little\")"
   ]
  },
  {
   "cell_type": "code",
   "execution_count": 11,
   "id": "demanding-cheat",
   "metadata": {},
   "outputs": [],
   "source": [
    "x[0x9000:0xa000] = box\n",
    "y = bytes(x)"
   ]
  },
  {
   "cell_type": "code",
   "execution_count": 12,
   "id": "honest-correlation",
   "metadata": {},
   "outputs": [],
   "source": [
    "with open(\"pocket-monsters.sav\", \"wb\") as fo:\n",
    "    fo.write(y)"
   ]
  },
  {
   "cell_type": "code",
   "execution_count": null,
   "id": "preceding-decrease",
   "metadata": {},
   "outputs": [],
   "source": []
  }
 ],
 "metadata": {
  "kernelspec": {
   "display_name": "Python 3",
   "language": "python",
   "name": "python3"
  },
  "language_info": {
   "codemirror_mode": {
    "name": "ipython",
    "version": 3
   },
   "file_extension": ".py",
   "mimetype": "text/x-python",
   "name": "python",
   "nbconvert_exporter": "python",
   "pygments_lexer": "ipython3",
   "version": "3.9.2"
  }
 },
 "nbformat": 4,
 "nbformat_minor": 5
}
